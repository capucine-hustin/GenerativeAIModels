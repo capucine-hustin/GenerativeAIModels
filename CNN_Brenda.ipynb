{
 "cells": [
  {
   "cell_type": "markdown",
   "id": "c8e16de7-3986-49ee-87c7-208b2480443e",
   "metadata": {},
   "source": [
    "### Import packages"
   ]
  },
  {
   "cell_type": "code",
   "execution_count": 4,
   "id": "4149827b-781a-4910-a015-9e764bb7ad2e",
   "metadata": {
    "tags": []
   },
   "outputs": [
    {
     "name": "stdout",
     "output_type": "stream",
     "text": [
      "Requirement already satisfied: keras-tuner in c:\\users\\public\\anaconda3\\lib\\site-packages (1.4.7)\n",
      "Requirement already satisfied: keras in c:\\users\\public\\anaconda3\\lib\\site-packages (from keras-tuner) (2.10.0)\n",
      "Requirement already satisfied: packaging in c:\\users\\public\\anaconda3\\lib\\site-packages (from keras-tuner) (23.2)\n",
      "Requirement already satisfied: requests in c:\\users\\public\\anaconda3\\lib\\site-packages (from keras-tuner) (2.31.0)\n",
      "Requirement already satisfied: kt-legacy in c:\\users\\public\\anaconda3\\lib\\site-packages (from keras-tuner) (1.0.5)\n",
      "Requirement already satisfied: charset-normalizer<4,>=2 in c:\\users\\public\\anaconda3\\lib\\site-packages (from requests->keras-tuner) (2.0.4)\n",
      "Requirement already satisfied: idna<4,>=2.5 in c:\\users\\public\\anaconda3\\lib\\site-packages (from requests->keras-tuner) (3.7)\n",
      "Requirement already satisfied: urllib3<3,>=1.21.1 in c:\\users\\public\\anaconda3\\lib\\site-packages (from requests->keras-tuner) (1.26.18)\n",
      "Requirement already satisfied: certifi>=2017.4.17 in c:\\users\\public\\anaconda3\\lib\\site-packages (from requests->keras-tuner) (2024.2.2)\n"
     ]
    }
   ],
   "source": [
    "import numpy as np\n",
    "import tensorflow as tf\n",
    "from tensorflow.keras import layers\n",
    "from tensorflow import keras\n",
    "from tqdm import tqdm\n",
    "import matplotlib.pyplot as plt\n",
    "from sklearn.metrics import mean_squared_error, mean_absolute_error\n",
    "import pandas as pd\n",
    "!pip install keras-tuner\n",
    "from keras_tuner import RandomSearch\n",
    "from keras_tuner.engine.hyperparameters import HyperParameters"
   ]
  },
  {
   "cell_type": "markdown",
   "id": "9e24cc67-9ea1-403e-87a3-4a1340910555",
   "metadata": {},
   "source": [
    "### Load and prepare data"
   ]
  },
  {
   "cell_type": "code",
   "execution_count": 6,
   "id": "d57ffc57-5fbc-45c2-8850-fe9c9ad4925f",
   "metadata": {
    "tags": []
   },
   "outputs": [],
   "source": [
    "# Model / data parameters\n",
    "num_classes = 10\n",
    "input_shape = (28, 28, 1)\n",
    "n_residual_blocks = 5\n",
    "\n",
    "# The data, split between train and test sets\n",
    "mnist = keras.datasets.mnist\n",
    "(x, _), (y, _) = mnist.load_data()\n",
    "\n",
    "# Concatenate all the images together\n",
    "data = np.concatenate((x, y), axis=0)\n",
    "\n",
    "# Round all pixel values less than 33% of the max 256 value to 0\n",
    "data = np.where(data < (0.33 * 256), 0, 1)\n",
    "data = data.astype(np.float32)"
   ]
  },
  {
   "cell_type": "markdown",
   "id": "e4ceae5b-f7ca-4459-b791-c71e66464b92",
   "metadata": {},
   "source": [
    "### Model Architecture"
   ]
  },
  {
   "cell_type": "code",
   "execution_count": 3,
   "id": "bee313b7-7676-42cf-b586-042688cd9fe9",
   "metadata": {},
   "outputs": [],
   "source": [
    "class PixelConvLayer(layers.Layer):\n",
    "    def __init__(self, mask_type, **kwargs):\n",
    "        super().__init__()\n",
    "        self.mask_type = mask_type\n",
    "        self.conv = layers.Conv2D(**kwargs)\n",
    "\n",
    "    def build(self, input_shape):\n",
    "        # Build the conv2d layer to initialize kernel variables\n",
    "        self.conv.build(input_shape)\n",
    "        # Use the initialized kernel to create the mask\n",
    "        kernel_shape = self.conv.kernel.get_shape()\n",
    "        self.mask = np.zeros(shape=kernel_shape)\n",
    "        self.mask[: kernel_shape[0] // 2, ...] = 1.0\n",
    "        self.mask[kernel_shape[0] // 2, : kernel_shape[1] // 2, ...] = 1.0\n",
    "        if self.mask_type == \"B\":\n",
    "            self.mask[kernel_shape[0] // 2, kernel_shape[1] // 2, ...] = 1.0\n",
    "\n",
    "    def call(self, inputs):\n",
    "        self.conv.kernel.assign(self.conv.kernel * self.mask)\n",
    "        return self.conv(inputs)\n",
    "\n",
    "\n",
    "class ResidualBlock(keras.layers.Layer):\n",
    "    def __init__(self, filters, **kwargs):\n",
    "        super().__init__(**kwargs)\n",
    "        self.conv1 = keras.layers.Conv2D(\n",
    "            filters=filters, kernel_size=1, activation=\"relu\"\n",
    "        )\n",
    "        self.pixel_conv = PixelConvLayer(\n",
    "            mask_type=\"B\",\n",
    "            filters=filters // 2,\n",
    "            kernel_size=3,\n",
    "            activation=\"relu\",\n",
    "            padding=\"same\",\n",
    "        )\n",
    "        self.conv2 = keras.layers.Conv2D(\n",
    "            filters=filters, kernel_size=1, activation=\"relu\"\n",
    "        )\n",
    "\n",
    "    def call(self, inputs):\n",
    "        x = self.conv1(inputs)\n",
    "        x = self.pixel_conv(x)\n",
    "        x = self.conv2(x)\n",
    "        return keras.layers.add([inputs, x])"
   ]
  },
  {
   "cell_type": "code",
   "execution_count": 4,
   "id": "d79712b7-7781-4363-a670-ac69e28cf067",
   "metadata": {},
   "outputs": [
    {
     "name": "stdout",
     "output_type": "stream",
     "text": [
      "Model: \"model\"\n",
      "_________________________________________________________________\n",
      " Layer (type)                Output Shape              Param #   \n",
      "=================================================================\n",
      " input_1 (InputLayer)        [(None, 28, 28, 1)]       0         \n",
      "                                                                 \n",
      " pixel_conv_layer (PixelConv  (None, 28, 28, 128)      6400      \n",
      " Layer)                                                          \n",
      "                                                                 \n",
      " residual_block (ResidualBlo  (None, 28, 28, 128)      98624     \n",
      " ck)                                                             \n",
      "                                                                 \n",
      " residual_block_1 (ResidualB  (None, 28, 28, 128)      98624     \n",
      " lock)                                                           \n",
      "                                                                 \n",
      " residual_block_2 (ResidualB  (None, 28, 28, 128)      98624     \n",
      " lock)                                                           \n",
      "                                                                 \n",
      " residual_block_3 (ResidualB  (None, 28, 28, 128)      98624     \n",
      " lock)                                                           \n",
      "                                                                 \n",
      " residual_block_4 (ResidualB  (None, 28, 28, 128)      98624     \n",
      " lock)                                                           \n",
      "                                                                 \n",
      " pixel_conv_layer_6 (PixelCo  (None, 28, 28, 128)      16512     \n",
      " nvLayer)                                                        \n",
      "                                                                 \n",
      " pixel_conv_layer_7 (PixelCo  (None, 28, 28, 128)      16512     \n",
      " nvLayer)                                                        \n",
      "                                                                 \n",
      " conv2d_18 (Conv2D)          (None, 28, 28, 1)         129       \n",
      "                                                                 \n",
      "=================================================================\n",
      "Total params: 532,673\n",
      "Trainable params: 532,673\n",
      "Non-trainable params: 0\n",
      "_________________________________________________________________\n"
     ]
    }
   ],
   "source": [
    "inputs = keras.Input(shape=input_shape)\n",
    "x = PixelConvLayer(\n",
    "    mask_type=\"A\", filters=128, kernel_size=7, activation=\"relu\", padding=\"same\"\n",
    ")(inputs)\n",
    "\n",
    "for _ in range(n_residual_blocks):\n",
    "    x = ResidualBlock(filters=128)(x)\n",
    "\n",
    "for _ in range(2):\n",
    "    x = PixelConvLayer(\n",
    "        mask_type=\"B\",\n",
    "        filters=128,\n",
    "        kernel_size=1,\n",
    "        strides=1,\n",
    "        activation=\"relu\",\n",
    "        padding=\"valid\",\n",
    "    )(x)\n",
    "\n",
    "out = keras.layers.Conv2D(\n",
    "    filters=1, kernel_size=1, strides=1, activation=\"sigmoid\", padding=\"valid\"\n",
    ")(x)\n",
    "\n",
    "pixel_cnn = keras.Model(inputs, out)\n",
    "adam = keras.optimizers.Adam(learning_rate=0.0005)\n",
    "pixel_cnn.compile(optimizer=adam, loss=\"binary_crossentropy\")\n",
    "\n",
    "pixel_cnn.summary()"
   ]
  },
  {
   "cell_type": "markdown",
   "id": "f6d0d013-b409-4d2c-8e7c-8b4b8c21b734",
   "metadata": {},
   "source": [
    "### Fitting"
   ]
  },
  {
   "cell_type": "code",
   "execution_count": 5,
   "id": "8678332b-d5cc-4b3c-a20f-1b5db7abb4ab",
   "metadata": {},
   "outputs": [
    {
     "name": "stdout",
     "output_type": "stream",
     "text": [
      "Epoch 1/10\n",
      "985/985 [==============================] - 1156s 1s/step - loss: 0.1027 - val_loss: 0.0897\n",
      "Epoch 2/10\n",
      "985/985 [==============================] - 1159s 1s/step - loss: 0.0889 - val_loss: 0.0895\n",
      "Epoch 3/10\n",
      "985/985 [==============================] - 1153s 1s/step - loss: 0.0873 - val_loss: 0.0872\n",
      "Epoch 4/10\n",
      "985/985 [==============================] - 1151s 1s/step - loss: 0.0864 - val_loss: 0.0861\n",
      "Epoch 5/10\n",
      "985/985 [==============================] - 1173s 1s/step - loss: 0.0858 - val_loss: 0.0857\n",
      "Epoch 6/10\n",
      "985/985 [==============================] - 1158s 1s/step - loss: 0.0853 - val_loss: 0.0859\n",
      "Epoch 7/10\n",
      "985/985 [==============================] - 1157s 1s/step - loss: 0.0849 - val_loss: 0.0847\n",
      "Epoch 8/10\n",
      "985/985 [==============================] - 1158s 1s/step - loss: 0.0845 - val_loss: 0.0849\n",
      "Epoch 9/10\n",
      "985/985 [==============================] - 1151s 1s/step - loss: 0.0843 - val_loss: 0.0848\n",
      "Epoch 10/10\n",
      "985/985 [==============================] - 1448s 1s/step - loss: 0.0840 - val_loss: 0.0840\n"
     ]
    },
    {
     "data": {
      "text/plain": [
       "<keras.callbacks.History at 0x28c15586be0>"
      ]
     },
     "execution_count": 5,
     "metadata": {},
     "output_type": "execute_result"
    }
   ],
   "source": [
    "pixel_cnn.fit(\n",
    "    x=data, y=data, batch_size=64, epochs=10, validation_split=0.1, verbose=1\n",
    ")"
   ]
  },
  {
   "cell_type": "markdown",
   "id": "e6e4740b-f030-4273-b0d9-03da28ec2ed8",
   "metadata": {},
   "source": [
    "### Performance matrix"
   ]
  },
  {
   "cell_type": "code",
   "execution_count": 9,
   "id": "db9f271e-d1be-4688-943b-6a4c02b807a7",
   "metadata": {},
   "outputs": [
    {
     "name": "stdout",
     "output_type": "stream",
     "text": [
      "4/4 [==============================] - 2s 264ms/step\n",
      "     Metric     Value\n",
      "0  BCE Loss  0.083294\n",
      "1      RMSE  0.156060\n",
      "2       MAE  0.048182\n"
     ]
    }
   ],
   "source": [
    "# Generate a batch of images\n",
    "generated_images = pixel_cnn.predict(data[:100])\n",
    "\n",
    "# Flatten the images for simplicity in calculation\n",
    "real_images_flat = data[:100].reshape(data[:100].shape[0], -1)\n",
    "generated_images_flat = generated_images.reshape(generated_images.shape[0], -1)\n",
    "\n",
    "# Calculate Mean Squared Error (MSE) and then take the square root for RMSE\n",
    "mse = mean_squared_error(real_images_flat, generated_images_flat)\n",
    "rmse = np.sqrt(mse)\n",
    "\n",
    "# Calculate Mean Absolute Error (MAE)\n",
    "mae = mean_absolute_error(real_images_flat, generated_images_flat)\n",
    "\n",
    "# Assuming binary cross-entropy loss, calculate it manually\n",
    "epsilon = 1e-7  # to prevent log(0)\n",
    "bce_loss = -np.mean(\n",
    "    real_images_flat * np.log(generated_images_flat + epsilon) + \n",
    "    (1 - real_images_flat) * np.log(1 - generated_images_flat + epsilon)\n",
    ")\n",
    "\n",
    "# Compile metrics into a DataFrame\n",
    "metrics_dict = {\n",
    "    'Metric': ['BCE Loss', 'RMSE', 'MAE'],\n",
    "    'Value': [bce_loss, rmse, mae]\n",
    "}\n",
    "\n",
    "metrics_df = pd.DataFrame(metrics_dict)\n",
    "print(metrics_df)"
   ]
  },
  {
   "cell_type": "markdown",
   "id": "e23c9818-9427-4c62-9ab7-a34dd96f7cf8",
   "metadata": {},
   "source": [
    "### Display images"
   ]
  },
  {
   "cell_type": "code",
   "execution_count": 13,
   "id": "e80de168-d866-4596-b1e0-572d0ac024aa",
   "metadata": {},
   "outputs": [
    {
     "data": {
      "image/png": "[encoded data removed]",
      "text/plain": [
       "<Figure size 1000x1000 with 10 Axes>"
      ]
     },
     "metadata": {},
     "output_type": "display_data"
    },
    {
     "data": {
      "image/png": "[encoded data removed]",
      "text/plain": [
       "<Figure size 1000x1000 with 10 Axes>"
      ]
     },
     "metadata": {},
     "output_type": "display_data"
    }
   ],
   "source": [
    "def display_images(images, title):\n",
    "    plt.figure(figsize=(10, 10))\n",
    "    for i in range(10):\n",
    "        ax = plt.subplot(2, 5, i + 1)\n",
    "        plt.imshow(images[i].squeeze(), cmap='gray')\n",
    "        plt.axis(\"off\")\n",
    "    plt.suptitle(title)\n",
    "    plt.show()\n",
    "\n",
    "# Display real images\n",
    "display_images(data[:10], \"Real Images\")\n",
    "\n",
    "# Display generated images\n",
    "display_images(generated_images[:10], \"Generated Images\")"
   ]
  },
  {
   "cell_type": "code",
   "execution_count": null,
   "id": "ff9f45d5-6733-4642-9813-58de3365e638",
   "metadata": {},
   "outputs": [],
   "source": [
    "generated_images = pixel_cnn.predict(data).reshape((10000, 1, 28, 28))"
   ]
  }
 ],
 "metadata": {
  "kernelspec": {
   "display_name": "Python 3 (ipykernel)",
   "language": "python",
   "name": "python3"
  },
  "language_info": {
   "codemirror_mode": {
    "name": "ipython",
    "version": 3
   },
   "file_extension": ".py",
   "mimetype": "text/x-python",
   "name": "python",
   "nbconvert_exporter": "python",
   "pygments_lexer": "ipython3",
   "version": "3.11.8"
  }
 },
 "nbformat": 4,
 "nbformat_minor": 5
}
